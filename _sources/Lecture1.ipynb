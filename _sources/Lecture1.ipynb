{
 "cells": [
  {
   "cell_type": "markdown",
   "id": "f2e582f4-2099-4a8b-951d-5234ea1a84b6",
   "metadata": {},
   "source": [
    "# Lecture 1"
   ]
  },
  {
   "cell_type": "code",
   "execution_count": null,
   "id": "7df95fa1-a0da-484e-95f4-d29744159aa2",
   "metadata": {},
   "outputs": [],
   "source": []
  }
 ],
 "metadata": {
  "kernelspec": {
   "display_name": "R",
   "language": "R",
   "name": "ir"
  },
  "language_info": {
   "codemirror_mode": "r",
   "file_extension": ".r",
   "mimetype": "text/x-r-source",
   "name": "R",
   "pygments_lexer": "r",
   "version": "4.1.0"
  }
 },
 "nbformat": 4,
 "nbformat_minor": 5
}
