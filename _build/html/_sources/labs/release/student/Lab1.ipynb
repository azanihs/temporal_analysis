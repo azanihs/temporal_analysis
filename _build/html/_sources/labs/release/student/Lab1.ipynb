{
 "cells": [
  {
   "cell_type": "markdown",
   "id": "8162ec40",
   "metadata": {},
   "source": [
    "# Lab 1: Clustering of sequential data in education\n",
    "\n",
    "Quan Nguyen, Department of Statistics, University of British Columbia"
   ]
  },
  {
   "cell_type": "markdown",
   "id": "a321e592",
   "metadata": {},
   "source": [
    "## About the dataset\n",
    "\n",
    "In this lab, we are going to use the built-in `biofam` data set from the `TraMineR` package. See more details [here](http://traminer.unige.ch/doc/biofam.html)\n",
    "\n",
    "This data consists information about the Family life states from the Swiss Household Panel biographical survey. 16 year-long family life sequences built from the retrospective biographical survey carried out by the Swiss Household Panel (SHP) in 2002.\n",
    "\n",
    "A data frame with 2000 rows, 16 state variables, 1 id variable and 7 covariates and 2 weights variables.\n",
    "\n",
    "The data set contains (in columns 10 to 25) sequences of family life states from age 15 to 30 (sequence length is 16) and a series of covariates. The sequences are a sample of 2000 sequences of those created from the SHP biographical survey. It includes only individuals who were at least 30 years old at the time of the survey. The biofam data set describes family life courses of 2000 individuals born between 1909 and 1972.\n",
    "\n",
    "The states numbered from 0 to 7 are defined from the combination of five basic states, namely Living with parents (Parent), Left home (Left), Married (Marr), Having Children (Child), Divorced:\n",
    "\n",
    "0 = \"Parent\"  \n",
    "1 = \"Left\"  \n",
    "2 = \"Married\"  \n",
    "3 = \"Left+Marr\"  \n",
    "4 = \"Child\"  \n",
    "5 = \"Left+Child\"  \n",
    "6 = \"Left+Marr+Child\"  \n",
    "7 = \"Divorced\"  \n",
    "\n",
    "| Variable | Label                                          |\n",
    "|----------|------------------------------------------------|\n",
    "| idhous   | ID                                             |\n",
    "| sex      | sex                                            |\n",
    "| birthy   | birth year                                     |\n",
    "| nat102   | nationality                                    |\n",
    "| plingu02 | interview language                             |\n",
    "| p02r01   | confession or religion                         |\n",
    "| p02r04   | participation in religious services: frequency |\n",
    "| cspfaj   | Swiss socio-professional category: Fathers job |\n",
    "| cspmoj   | Swiss socio-professional category: Mothers job |\n",
    "| a15      | family status at age 15                        |\n",
    "| ...      |                                                |\n",
    "| a30      | family status at age 30                        |\n"
   ]
  },
  {
   "cell_type": "code",
   "execution_count": 5,
   "id": "82d6d2c9",
   "metadata": {},
   "outputs": [],
   "source": [
    "library(tidyverse)\n",
    "library(TraMineR)\n",
    "data(biofam)\n",
    "str(biofam)"
   ]
  },
  {
   "cell_type": "markdown",
   "id": "bb297b98",
   "metadata": {},
   "source": [
    "## Part 1: Data manipulation\n",
    "\n",
    "### Q1: Import the following dataset and create a sequence object using the `seqdef()` function in the `TraMineR` package.\n",
    "\n",
    "Hint: You can use the option `states` in `seqdef()` to assign the short state labels for each state"
   ]
  },
  {
   "cell_type": "code",
   "execution_count": 10,
   "id": "45df25c3",
   "metadata": {
    "tags": []
   },
   "outputs": [],
   "source": [
    "# state labels\n",
    "bfstates <- c(\"Parent\", \"Left\", \"Married\", \"Left+Marr\", \"Child\", \"Left+Child\", \"Left+Marr+Child\", \"Divorced\")\n",
    "\n",
    "..."
   ]
  },
  {
   "cell_type": "markdown",
   "id": "33c196e0",
   "metadata": {},
   "source": [
    "### Q2: Convert the sequence object from 'STS' to 'SPS' format using the `seqformat()` function"
   ]
  },
  {
   "cell_type": "code",
   "execution_count": 13,
   "id": "aa7e4f8a",
   "metadata": {
    "tags": []
   },
   "outputs": [],
   "source": [
    "..."
   ]
  },
  {
   "cell_type": "markdown",
   "id": "65e7903b",
   "metadata": {},
   "source": [
    "## Part 2: Exploratory data analysis\n",
    "\n",
    "### Q3 Plot the first 15 sequences"
   ]
  },
  {
   "cell_type": "code",
   "execution_count": 18,
   "id": "bd90a9b7",
   "metadata": {
    "tags": []
   },
   "outputs": [],
   "source": [
    "# Hint: seqiplot()\n",
    "\n",
    "..."
   ]
  },
  {
   "cell_type": "markdown",
   "id": "90d2fac9",
   "metadata": {},
   "source": [
    "### Q4 Plot the state distribution"
   ]
  },
  {
   "cell_type": "code",
   "execution_count": 19,
   "id": "86ece970",
   "metadata": {
    "tags": []
   },
   "outputs": [],
   "source": [
    "# Hint: seqdplot()\n",
    "\n",
    "..."
   ]
  },
  {
   "cell_type": "markdown",
   "id": "1d6bdf44",
   "metadata": {},
   "source": [
    "### Q5 Plot the top 10 most frequent sequences"
   ]
  },
  {
   "cell_type": "code",
   "execution_count": 20,
   "id": "3a1d3031",
   "metadata": {
    "tags": []
   },
   "outputs": [],
   "source": [
    "# Hint: seqfplot()\n",
    "\n",
    "..."
   ]
  },
  {
   "cell_type": "markdown",
   "id": "07896452",
   "metadata": {},
   "source": [
    "### Q6 What are the distinct states sequence (DSS) in the sequence objects?"
   ]
  },
  {
   "cell_type": "code",
   "execution_count": 23,
   "id": "97bf781d",
   "metadata": {
    "tags": []
   },
   "outputs": [],
   "source": [
    "# Hint: seqdss()\n",
    "\n",
    "..."
   ]
  },
  {
   "cell_type": "markdown",
   "id": "5f5f005d",
   "metadata": {},
   "source": [
    "### Q7 How many sequences are there in the data?"
   ]
  },
  {
   "cell_type": "code",
   "execution_count": 25,
   "id": "cb451d6c",
   "metadata": {
    "tags": []
   },
   "outputs": [],
   "source": [
    "seq_num <- ..."
   ]
  },
  {
   "cell_type": "markdown",
   "id": "e45f084e",
   "metadata": {},
   "source": [
    "### Q8 What is the min/max/median length of the sequences "
   ]
  },
  {
   "cell_type": "code",
   "execution_count": 77,
   "id": "f597cca0",
   "metadata": {
    "tags": []
   },
   "outputs": [],
   "source": [
    "# YOUR CODE HERE"
   ]
  },
  {
   "cell_type": "markdown",
   "id": "a7e39868",
   "metadata": {},
   "source": [
    "### Q9 Which state is the most likely to follow 'Left' (hint: transition rates)"
   ]
  },
  {
   "cell_type": "code",
   "execution_count": 28,
   "id": "62c5505b",
   "metadata": {
    "tags": []
   },
   "outputs": [],
   "source": [
    "# Hint: seqtrate()\n",
    "\n",
    "..."
   ]
  },
  {
   "cell_type": "markdown",
   "id": "6ebf32d8",
   "metadata": {},
   "source": [
    "### Q10 What are the top 10 most diverse sequences (hint: entropy, turbulence)"
   ]
  },
  {
   "cell_type": "code",
   "execution_count": 75,
   "id": "caea54b2",
   "metadata": {
    "tags": []
   },
   "outputs": [],
   "source": [
    "..."
   ]
  },
  {
   "cell_type": "markdown",
   "id": "bb6baab5",
   "metadata": {},
   "source": [
    "### Q.11 What is the average time spent in each state?"
   ]
  },
  {
   "cell_type": "code",
   "execution_count": 76,
   "id": "876b787a",
   "metadata": {
    "tags": []
   },
   "outputs": [],
   "source": [
    "..."
   ]
  }
 ],
 "metadata": {
  "kernelspec": {
   "display_name": "R",
   "language": "R",
   "name": "ir"
  },
  "language_info": {
   "codemirror_mode": "r",
   "file_extension": ".r",
   "mimetype": "text/x-r-source",
   "name": "R",
   "pygments_lexer": "r",
   "version": "4.1.0"
  }
 },
 "nbformat": 4,
 "nbformat_minor": 5
}
