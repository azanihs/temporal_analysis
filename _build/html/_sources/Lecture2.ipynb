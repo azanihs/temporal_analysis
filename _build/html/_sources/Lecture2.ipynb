{
 "cells": [
  {
   "cell_type": "markdown",
   "id": "7ceda91a-5c68-442d-bb66-7a6979c5bd2b",
   "metadata": {},
   "source": [
    "# Lecture 2: Sequences clustering"
   ]
  },
  {
   "cell_type": "code",
   "execution_count": 2,
   "id": "df0c6162-b464-4a48-a7e4-2f5f0e3bd863",
   "metadata": {},
   "outputs": [],
   "source": [
    "library(tidyverse)\n",
    "library(TraMineR)"
   ]
  },
  {
   "cell_type": "markdown",
   "id": "83d94488-ff18-488e-8a11-8073bbec6848",
   "metadata": {},
   "source": [
    "## Similarities and distances between sequences"
   ]
  },
  {
   "cell_type": "markdown",
   "id": "52e3c34f-fff5-4d68-9c7b-7392a7487ba2",
   "metadata": {},
   "source": [
    "## Cluster analysis of sequences"
   ]
  },
  {
   "cell_type": "markdown",
   "id": "c7a51777-2161-4e5b-839b-34c3419d5198",
   "metadata": {},
   "source": [
    "## Covariate analaysis of identified clusters"
   ]
  },
  {
   "cell_type": "code",
   "execution_count": null,
   "id": "9976f5fd-161d-4557-9d5f-7d78f25d7ad5",
   "metadata": {},
   "outputs": [],
   "source": []
  }
 ],
 "metadata": {
  "kernelspec": {
   "display_name": "R",
   "language": "R",
   "name": "ir"
  },
  "language_info": {
   "codemirror_mode": "r",
   "file_extension": ".r",
   "mimetype": "text/x-r-source",
   "name": "R",
   "pygments_lexer": "r",
   "version": "4.1.0"
  }
 },
 "nbformat": 4,
 "nbformat_minor": 5
}
